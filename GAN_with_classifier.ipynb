{
  "nbformat": 4,
  "nbformat_minor": 0,
  "metadata": {
    "colab": {
      "name": "GAN_with_classifier.ipynb",
      "provenance": [],
      "collapsed_sections": [],
      "authorship_tag": "ABX9TyMXOrUutZ3pWOeOYrCwwp05",
      "include_colab_link": true
    },
    "kernelspec": {
      "name": "python3",
      "display_name": "Python 3"
    },
    "accelerator": "GPU"
  },
  "cells": [
    {
      "cell_type": "markdown",
      "metadata": {
        "id": "view-in-github",
        "colab_type": "text"
      },
      "source": [
        "<a href=\"https://colab.research.google.com/github/rowanho/Inverted-Index-Generator/blob/master/GAN_with_classifier.ipynb\" target=\"_parent\"><img src=\"https://colab.research.google.com/assets/colab-badge.svg\" alt=\"Open In Colab\"/></a>"
      ]
    },
    {
      "cell_type": "code",
      "metadata": {
        "id": "LxfOo2Rd4FeZ",
        "colab_type": "code",
        "colab": {}
      },
      "source": [
        "%%capture\n",
        "from os.path import exists\n",
        "from wheel.pep425tags import get_abbr_impl, get_impl_ver, get_abi_tag\n",
        "platform = '{}{}-{}'.format(get_abbr_impl(), get_impl_ver(), get_abi_tag())\n",
        "cuda_output = !ldconfig -p|grep cudart.so|sed -e 's/.*\\.\\([0-9]*\\)\\.\\([0-9]*\\)$/cu\\1\\2/'\n",
        "accelerator = cuda_output[0] if exists('/dev/nvidia0') else 'cpu'\n",
        "!pip install -q torch torchvision livelossplot"
      ],
      "execution_count": 0,
      "outputs": []
    },
    {
      "cell_type": "code",
      "metadata": {
        "id": "lYdwazYL4rKU",
        "colab_type": "code",
        "outputId": "85394f3f-cc5d-401d-f5ee-d58dab234e1b",
        "colab": {
          "base_uri": "https://localhost:8080/",
          "height": 34
        }
      },
      "source": [
        "#@title\n",
        "import math\n",
        "from time import sleep\n",
        "import numpy as np\n",
        "import torch\n",
        "import torch.nn as nn\n",
        "import torch.nn.functional as F\n",
        "import torchvision.models as models\n",
        "import torchvision\n",
        "import matplotlib.pyplot as plt\n",
        "from livelossplot import PlotLosses\n",
        "\n",
        "device = torch.device('cuda') if torch.cuda.is_available() else torch.device('cpu')\n",
        "print(device)"
      ],
      "execution_count": 2,
      "outputs": [
        {
          "output_type": "stream",
          "text": [
            "cuda\n"
          ],
          "name": "stdout"
        }
      ]
    },
    {
      "cell_type": "code",
      "metadata": {
        "id": "n1_Nivnb4s-9",
        "colab_type": "code",
        "outputId": "e4556259-ddab-4114-86d8-5d825c145cbb",
        "colab": {
          "base_uri": "https://localhost:8080/",
          "height": 52
        }
      },
      "source": [
        "#@title\n",
        "# helper function to make getting another batch of data easier\n",
        "def cycle(iterable):\n",
        "    while True:\n",
        "        for x in iterable:\n",
        "            yield x\n",
        "\n",
        "class_names = ['airplane', 'car', 'bird', 'cat', 'deer', 'dog', 'frog', 'horse', 'ship', 'truck']\n",
        "\n",
        "training_data = torchvision.datasets.CIFAR10('data', train=True, download=True, transform=torchvision.transforms.Compose([\n",
        "                torchvision.transforms.ToTensor(),\n",
        "]))\n",
        "\n",
        "test_data =  torchvision.datasets.CIFAR10('data', train=False, download=True, transform=torchvision.transforms.Compose([\n",
        "                torchvision.transforms.ToTensor(),\n",
        "]))\n",
        "\n",
        "bird_plane_horse_positions = [i for i, _ in enumerate(training_data) if training_data.targets[i] in [0, 1, 7]]\n",
        "\n",
        "bird_plane_horse_test_positions = [i for i, _ in enumerate(test_data) if test_data.targets[i] in [0, 1, 7]]\n",
        "\n",
        "train_loader = torch.utils.data.DataLoader(\n",
        "    training_data,\n",
        "    sampler=torch.utils.data.SubsetRandomSampler(bird_plane_horse_positions), # Only keep birds and horses\n",
        "    batch_size=64, drop_last=True)\n",
        "\n",
        "test_loader = torch.utils.data.DataLoader(\n",
        "    test_data,\n",
        "    sampler=torch.utils.data.SubsetRandomSampler(bird_plane_horse_test_positions), # Only keep birds and horses\n",
        "    batch_size=64, drop_last=True)\n",
        "\n",
        "train_iterator = iter(cycle(train_loader))\n",
        "test_iterator = iter(cycle(test_loader))"
      ],
      "execution_count": 24,
      "outputs": [
        {
          "output_type": "stream",
          "text": [
            "Files already downloaded and verified\n",
            "Files already downloaded and verified\n"
          ],
          "name": "stdout"
        }
      ]
    },
    {
      "cell_type": "markdown",
      "metadata": {
        "id": "6OqDT3vG6IUE",
        "colab_type": "text"
      },
      "source": [
        "**Create a classifier for the CIFAR10 data**"
      ]
    },
    {
      "cell_type": "code",
      "metadata": {
        "id": "rVDA255p6Hlb",
        "colab_type": "code",
        "colab": {}
      },
      "source": [
        "#@title\n",
        "class Classifier(nn.Module):\n",
        "    def __init__(self):\n",
        "        super(Classifier, self).__init__()\n",
        "        self.conv1 = nn.Conv2d(3, 6, 5)\n",
        "        self.pool = nn.MaxPool2d(2, 2)\n",
        "        self.conv2 = nn.Conv2d(6, 16, 5)\n",
        "        self.fc1 = nn.Linear(16 * 5 * 5, 120)\n",
        "        self.fc2 = nn.Linear(120, 84)\n",
        "        self.fc3 = nn.Linear(84, 10)\n",
        "\n",
        "    def forward(self, x):\n",
        "        x = self.pool(F.relu(self.conv1(x)))\n",
        "        x = self.pool(F.relu(self.conv2(x)))\n",
        "        x = x.view(-1, 16 * 5 * 5)\n",
        "        x = F.relu(self.fc1(x))\n",
        "        x = F.relu(self.fc2(x))\n",
        "        x = self.fc3(x)\n",
        "        return x"
      ],
      "execution_count": 0,
      "outputs": []
    },
    {
      "cell_type": "markdown",
      "metadata": {
        "id": "h_zJVB7j6oYb",
        "colab_type": "text"
      },
      "source": [
        "** Train the classifier **"
      ]
    },
    {
      "cell_type": "code",
      "metadata": {
        "id": "w6rxME8I6nug",
        "colab_type": "code",
        "outputId": "3bedbb33-88c6-4a82-81b4-79da4a34a635",
        "colab": {
          "base_uri": "https://localhost:8080/",
          "height": 448
        }
      },
      "source": [
        "#@title\n",
        "C = Classifier().to(device)\n",
        "\n",
        "# initialise the optimiser\n",
        "optimiser = torch.optim.SGD(C.parameters(), lr=0.001, momentum=0.9)\n",
        "epoch = 0\n",
        "no_epochs = 15\n",
        "liveplot = PlotLosses()\n",
        "loss_func = nn.CrossEntropyLoss()\n",
        "# train and test\n",
        "while (epoch<no_epochs):\n",
        "    \n",
        "    # arrays for metrics\n",
        "    logs = {}\n",
        "    train_loss_arr = np.zeros(0)\n",
        "    train_acc_arr = np.zeros(0)\n",
        "    test_loss_arr = np.zeros(0)\n",
        "    test_acc_arr = np.zeros(0)\n",
        "\n",
        "    # iterate over the train dateset\n",
        "    for (x,t) in train_loader:\n",
        "        x,t = x.to(device), t.to(device)\n",
        "\n",
        "        optimiser.zero_grad()\n",
        "        o = C(x)\n",
        "        loss = loss_func(o, t).to(device)\n",
        "        loss.backward()\n",
        "        optimiser.step()\n",
        "        pred = o.argmax(dim=1, keepdim=True)\n",
        "\n",
        "        train_loss_arr = np.append(train_loss_arr, loss.cpu().data)\n",
        "        train_acc_arr = np.append(train_acc_arr, pred.data.eq(t.view_as(pred)).float().mean().item())\n",
        "    # iterate entire test dataset\n",
        "    for x,t in test_loader:\n",
        "        x,t = x.to(device), t.to(device)\n",
        "\n",
        "        o = C(x)\n",
        "        loss = loss_func(o, t).to(device)\n",
        "\n",
        "        pred = o.argmax(dim=1, keepdim=True)\n",
        "\n",
        "        test_loss_arr = np.append(test_loss_arr, loss.cpu().data)\n",
        "        test_acc_arr = np.append(test_acc_arr, pred.data.eq(t.view_as(pred)).float().mean().item())\n",
        "\n",
        "    liveplot.update({\n",
        "        'accuracy': train_acc_arr.mean(),\n",
        "        'val_accuracy': test_acc_arr.mean(),\n",
        "        'loss': train_loss_arr.mean(),\n",
        "        'val_loss': test_loss_arr.mean()\n",
        "    })    \n",
        "    liveplot.draw()\n",
        "\n",
        "    epoch = epoch+1\n",
        "\n",
        "saved_classifier = C.state_dict()"
      ],
      "execution_count": 26,
      "outputs": [
        {
          "output_type": "display_data",
          "data": {
            "image/png": "[encoded data removed]",
            "text/plain": [
              "<Figure size 864x576 with 2 Axes>"
            ]
          },
          "metadata": {
            "tags": []
          }
        },
        {
          "output_type": "stream",
          "text": [
            "accuracy:\n",
            "training   (min:    0.318, max:    0.767, cur:    0.767)\n",
            "validation (min:    0.387, max:    0.780, cur:    0.780)\n",
            "\n",
            "loss:\n",
            "training   (min:    0.595, max:    1.627, cur:    0.595)\n",
            "validation (min:    0.555, max:    1.066, cur:    0.555)\n"
          ],
          "name": "stdout"
        }
      ]
    },
    {
      "cell_type": "markdown",
      "metadata": {
        "id": "aNOmNkei7sqb",
        "colab_type": "text"
      },
      "source": [
        "** Define the generator and discriminator **"
      ]
    },
    {
      "cell_type": "code",
      "metadata": {
        "id": "3JJvvT_f7rLD",
        "colab_type": "code",
        "colab": {}
      },
      "source": [
        "#@title\n",
        "class Discriminator(nn.Module):\n",
        "    def __init__(self, f=64):\n",
        "        super(Discriminator, self).__init__()\n",
        "        self.discriminate = nn.Sequential(\n",
        "            nn.Conv2d(3, f, 4, 2, 1, bias=False),\n",
        "            nn.LeakyReLU(0.2, inplace=True),\n",
        "            nn.Conv2d(f, f*2, 4, 2, 1, bias=False),\n",
        "            nn.BatchNorm2d(f*2),\n",
        "            nn.LeakyReLU(0.2, inplace=True),\n",
        "            nn.Conv2d(f*2, f*4, 4, 2, 1, bias=False),\n",
        "            nn.BatchNorm2d(f*4),\n",
        "            nn.LeakyReLU(0.2, inplace=True),\n",
        "            nn.Conv2d(f*4, f*8, 4, 2, 1, bias=False),\n",
        "            nn.BatchNorm2d(f*8),\n",
        "            nn.LeakyReLU(0.2, inplace=True),\n",
        "        )\n",
        "\n",
        "        self.last_step = nn.Sequential(nn.Conv2d(f*8, 1, 4, 2, 1, bias=False),\n",
        "            nn.Sigmoid()\n",
        "        )\n",
        "\n",
        "\n",
        "    def forward(self, x):\n",
        "        features = self.discriminate(x)\n",
        "        res = self.last_step(features)\n",
        "        return res\n",
        "\n",
        "\n",
        "class Generator(nn.Module):\n",
        "    def __init__(self, f=64):\n",
        "        super(Generator, self).__init__()\n",
        "        self.generate = nn.Sequential(\n",
        "            nn.ConvTranspose2d(100, f*8, 4, 2, 1, bias=False),\n",
        "            nn.BatchNorm2d(64*8),\n",
        "            nn.ReLU(True),\n",
        "            nn.ConvTranspose2d(f*8, f*4, 4, 2, 1, bias=False),\n",
        "            nn.BatchNorm2d(f*4),\n",
        "            nn.ReLU(True),\n",
        "            nn.ConvTranspose2d(f*4, f*2, 4, 2, 1, bias=False),\n",
        "            nn.BatchNorm2d(f*2),\n",
        "            nn.ReLU(True),\n",
        "            nn.ConvTranspose2d(f*2, f, 4, 2, 1, bias=False),\n",
        "            nn.BatchNorm2d(f),\n",
        "            nn.ReLU(True),\n",
        "            nn.ConvTranspose2d(f, 3, 4, 2, 1, bias=False),\n",
        "            nn.Sigmoid()\n",
        "        )\n",
        "    \n",
        "    def forward(self, z):\n",
        "        return self.generate(z)\n",
        "\n",
        "    \n"
      ],
      "execution_count": 0,
      "outputs": []
    },
    {
      "cell_type": "code",
      "metadata": {
        "id": "TnYamrVFxnRc",
        "colab_type": "code",
        "colab": {}
      },
      "source": [
        "# Use BCELoss function\n",
        "\n",
        "# Parameters\n",
        "lr_g = 0.0002\n",
        "lr_d = 0.00005\n",
        "\n",
        "beta1 = 0.5\n",
        "bce_loss = nn.BCELoss()\n",
        "epoch = 0\n",
        "num_epochs = 100\n",
        "liveplot = PlotLosses()\n",
        "\n",
        "G = Generator().to(device)\n",
        "D = Discriminator().to(device)\n",
        "epoch = 0\n",
        "liveplot = PlotLosses()\n",
        "optimiser_G = torch.optim.Adam(G.parameters(), lr=lr_g, betas=(beta1, 0.999))\n",
        "optimiser_D = torch.optim.Adam(D.parameters(), lr=lr_d, betas=(beta1, 0.999))"
      ],
      "execution_count": 0,
      "outputs": []
    },
    {
      "cell_type": "code",
      "metadata": {
        "id": "kb5909Y8D_zx",
        "colab_type": "code",
        "colab": {
          "base_uri": "https://localhost:8080/",
          "height": 437
        },
        "outputId": "bab076aa-1c6f-4471-bdff-b3b3d791aacb"
      },
      "source": [
        "# training loop, feel free to also train on the test dataset if you like for generating the pegasus\n",
        "while (epoch<num_epochs):\n",
        "    \n",
        "    # arrays for metrics\n",
        "    logs = {}\n",
        "    gen_loss_arr = np.zeros(0)\n",
        "    dis_loss_arr = np.zeros(0)\n",
        "\n",
        "    # iterate over some of the train dateset\n",
        "    for (x, t) in train_loader:\n",
        "        x, t = x.to(device), t.to(device)\n",
        "\n",
        "        # Generate iamges from noise\n",
        "        x_n = G.generate(torch.randn(x.size(0), 100, 1, 1).to(device))\n",
        "\n",
        "        # Discriminate the real and fake images\n",
        "        d_r = D(x)\n",
        "        d_n = D(x_n)\n",
        "\n",
        "        # train discriminator \n",
        "        optimiser_D.zero_grad()\n",
        "        loss_d = bce_loss(d_r, torch.ones(64).to(device)) + \\\n",
        "               bce_loss(d_n, torch.zeros(64).to(device))\n",
        "        loss_d.backward()\n",
        "        optimiser_D.step()\n",
        "        dis_loss_arr = np.append(dis_loss_arr, loss_d.cpu().data)\n",
        "\n",
        "        # Train generator and encoder\n",
        "        loss_g = bce_loss(d_n,  torch.ones(64).to(device))\n",
        "\n",
        "        optimiser_G.zero_grad()\n",
        "        loss_g.backward()\n",
        "        optimiser_G.step()\n",
        "        gen_loss_arr = np.append(gen_loss_arr, loss_g.cpu().data)\n",
        "\n",
        "    # plot some examples\n",
        "    plt.grid(False)\n",
        "    plt.imshow(torchvision.utils.make_grid(x_n).cpu().data.permute(0,2,1).contiguous().permute(2,1,0), cmap=plt.cm.binary)\n",
        "\n",
        "    liveplot.update({\n",
        "        'generator loss': gen_loss_arr.mean(),\n",
        "        'discriminator loss': dis_loss_arr.mean(),\n",
        "    })\n",
        "    liveplot.draw()\n",
        "    sleep(1.)\n",
        "\n",
        "    epoch = epoch+1\n",
        "\n",
        "saved_generator = G.state_dict()"
      ],
      "execution_count": 15,
      "outputs": [
        {
          "output_type": "stream",
          "text": [
            "/usr/local/lib/python3.6/dist-packages/torch/nn/modules/loss.py:498: UserWarning: Using a target size (torch.Size([64])) that is different to the input size (torch.Size([64, 1, 1, 1])) is deprecated. Please ensure they have the same size.\n",
            "  return F.binary_cross_entropy(input, target, weight=self.weight, reduction=self.reduction)\n"
          ],
          "name": "stderr"
        },
        {
          "output_type": "error",
          "ename": "RuntimeError",
          "evalue": "ignored",
          "traceback": [
            "\u001b[0;31m---------------------------------------------------------------------------\u001b[0m",
            "\u001b[0;31mRuntimeError\u001b[0m                              Traceback (most recent call last)",
            "\u001b[0;32m<ipython-input-15-0b9c89ac6af4>\u001b[0m in \u001b[0;36m<module>\u001b[0;34m()\u001b[0m\n\u001b[1;32m     28\u001b[0m \u001b[0;34m\u001b[0m\u001b[0m\n\u001b[1;32m     29\u001b[0m         \u001b[0moptimiser_G\u001b[0m\u001b[0;34m.\u001b[0m\u001b[0mzero_grad\u001b[0m\u001b[0;34m(\u001b[0m\u001b[0;34m)\u001b[0m\u001b[0;34m\u001b[0m\u001b[0;34m\u001b[0m\u001b[0m\n\u001b[0;32m---> 30\u001b[0;31m         \u001b[0mloss_g\u001b[0m\u001b[0;34m.\u001b[0m\u001b[0mbackward\u001b[0m\u001b[0;34m(\u001b[0m\u001b[0;34m)\u001b[0m\u001b[0;34m\u001b[0m\u001b[0;34m\u001b[0m\u001b[0m\n\u001b[0m\u001b[1;32m     31\u001b[0m         \u001b[0moptimiser_G\u001b[0m\u001b[0;34m.\u001b[0m\u001b[0mstep\u001b[0m\u001b[0;34m(\u001b[0m\u001b[0;34m)\u001b[0m\u001b[0;34m\u001b[0m\u001b[0;34m\u001b[0m\u001b[0m\n\u001b[1;32m     32\u001b[0m         \u001b[0mgen_loss_arr\u001b[0m \u001b[0;34m=\u001b[0m \u001b[0mnp\u001b[0m\u001b[0;34m.\u001b[0m\u001b[0mappend\u001b[0m\u001b[0;34m(\u001b[0m\u001b[0mgen_loss_arr\u001b[0m\u001b[0;34m,\u001b[0m \u001b[0mloss_g\u001b[0m\u001b[0;34m.\u001b[0m\u001b[0mcpu\u001b[0m\u001b[0;34m(\u001b[0m\u001b[0;34m)\u001b[0m\u001b[0;34m.\u001b[0m\u001b[0mdata\u001b[0m\u001b[0;34m)\u001b[0m\u001b[0;34m\u001b[0m\u001b[0;34m\u001b[0m\u001b[0m\n",
            "\u001b[0;32m/usr/local/lib/python3.6/dist-packages/torch/tensor.py\u001b[0m in \u001b[0;36mbackward\u001b[0;34m(self, gradient, retain_graph, create_graph)\u001b[0m\n\u001b[1;32m    193\u001b[0m                 \u001b[0mproducts\u001b[0m\u001b[0;34m.\u001b[0m \u001b[0mDefaults\u001b[0m \u001b[0mto\u001b[0m\u001b[0;31m \u001b[0m\u001b[0;31m`\u001b[0m\u001b[0;31m`\u001b[0m\u001b[0;32mFalse\u001b[0m\u001b[0;31m`\u001b[0m\u001b[0;31m`\u001b[0m\u001b[0;34m.\u001b[0m\u001b[0;34m\u001b[0m\u001b[0;34m\u001b[0m\u001b[0m\n\u001b[1;32m    194\u001b[0m         \"\"\"\n\u001b[0;32m--> 195\u001b[0;31m         \u001b[0mtorch\u001b[0m\u001b[0;34m.\u001b[0m\u001b[0mautograd\u001b[0m\u001b[0;34m.\u001b[0m\u001b[0mbackward\u001b[0m\u001b[0;34m(\u001b[0m\u001b[0mself\u001b[0m\u001b[0;34m,\u001b[0m \u001b[0mgradient\u001b[0m\u001b[0;34m,\u001b[0m \u001b[0mretain_graph\u001b[0m\u001b[0;34m,\u001b[0m \u001b[0mcreate_graph\u001b[0m\u001b[0;34m)\u001b[0m\u001b[0;34m\u001b[0m\u001b[0;34m\u001b[0m\u001b[0m\n\u001b[0m\u001b[1;32m    196\u001b[0m \u001b[0;34m\u001b[0m\u001b[0m\n\u001b[1;32m    197\u001b[0m     \u001b[0;32mdef\u001b[0m \u001b[0mregister_hook\u001b[0m\u001b[0;34m(\u001b[0m\u001b[0mself\u001b[0m\u001b[0;34m,\u001b[0m \u001b[0mhook\u001b[0m\u001b[0;34m)\u001b[0m\u001b[0;34m:\u001b[0m\u001b[0;34m\u001b[0m\u001b[0;34m\u001b[0m\u001b[0m\n",
            "\u001b[0;32m/usr/local/lib/python3.6/dist-packages/torch/autograd/__init__.py\u001b[0m in \u001b[0;36mbackward\u001b[0;34m(tensors, grad_tensors, retain_graph, create_graph, grad_variables)\u001b[0m\n\u001b[1;32m     97\u001b[0m     Variable._execution_engine.run_backward(\n\u001b[1;32m     98\u001b[0m         \u001b[0mtensors\u001b[0m\u001b[0;34m,\u001b[0m \u001b[0mgrad_tensors\u001b[0m\u001b[0;34m,\u001b[0m \u001b[0mretain_graph\u001b[0m\u001b[0;34m,\u001b[0m \u001b[0mcreate_graph\u001b[0m\u001b[0;34m,\u001b[0m\u001b[0;34m\u001b[0m\u001b[0;34m\u001b[0m\u001b[0m\n\u001b[0;32m---> 99\u001b[0;31m         allow_unreachable=True)  # allow_unreachable flag\n\u001b[0m\u001b[1;32m    100\u001b[0m \u001b[0;34m\u001b[0m\u001b[0m\n\u001b[1;32m    101\u001b[0m \u001b[0;34m\u001b[0m\u001b[0m\n",
            "\u001b[0;31mRuntimeError\u001b[0m: Trying to backward through the graph a second time, but the buffers have already been freed. Specify retain_graph=True when calling backward the first time."
          ]
        }
      ]
    },
    {
      "cell_type": "code",
      "metadata": {
        "id": "O_Y3r16p7rhY",
        "colab_type": "code",
        "colab": {}
      },
      "source": [
        ""
      ],
      "execution_count": 0,
      "outputs": []
    }
  ]
}